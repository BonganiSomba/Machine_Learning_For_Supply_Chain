{
  "nbformat": 4,
  "nbformat_minor": 0,
  "metadata": {
    "colab": {
      "name": "PredictionOfAnswer.ipynb",
      "provenance": [],
      "collapsed_sections": [],
      "include_colab_link": true
    },
    "kernelspec": {
      "name": "python3",
      "display_name": "Python 3"
    },
    "language_info": {
      "name": "python"
    }
  },
  "cells": [
    {
      "cell_type": "markdown",
      "metadata": {
        "id": "view-in-github",
        "colab_type": "text"
      },
      "source": [
        "<a href=\"https://colab.research.google.com/github/BonganiSomba/Machine_Learning_For_Supply_Chain/blob/main/PredictionOfAnswer.ipynb\" target=\"_parent\"><img src=\"https://colab.research.google.com/assets/colab-badge.svg\" alt=\"Open In Colab\"/></a>"
      ]
    },
    {
      "cell_type": "code",
      "metadata": {
        "id": "wYtciT2RvHcK"
      },
      "source": [
        "####importing packages  \n",
        "\n",
        "import pandas as pd\n",
        "import numpy as np\n"
      ],
      "execution_count": 1,
      "outputs": []
    },
    {
      "cell_type": "code",
      "metadata": {
        "colab": {
          "base_uri": "https://localhost:8080/"
        },
        "id": "l9jJoqtffosL",
        "outputId": "33e75f53-9fd8-49ae-dc8a-69f08e20aed6"
      },
      "source": [
        "from google.colab import drive\n",
        "drive.mount('/content/drive')"
      ],
      "execution_count": 4,
      "outputs": [
        {
          "output_type": "stream",
          "name": "stdout",
          "text": [
            "Drive already mounted at /content/drive; to attempt to forcibly remount, call drive.mount(\"/content/drive\", force_remount=True).\n"
          ]
        }
      ]
    },
    {
      "cell_type": "code",
      "metadata": {
        "id": "bZxTTHJtwMdS",
        "colab": {
          "base_uri": "https://localhost:8080/",
          "height": 204
        },
        "outputId": "782034a9-7de5-4a90-980e-a37744a0261a"
      },
      "source": [
        "####### importing data\n",
        "\n",
        "\n",
        "df = pd.read_excel(\"Machine Learning.xlsx\")\n",
        "df.head()"
      ],
      "execution_count": 9,
      "outputs": [
        {
          "output_type": "execute_result",
          "data": {
            "text/html": [
              "<div>\n",
              "<style scoped>\n",
              "    .dataframe tbody tr th:only-of-type {\n",
              "        vertical-align: middle;\n",
              "    }\n",
              "\n",
              "    .dataframe tbody tr th {\n",
              "        vertical-align: top;\n",
              "    }\n",
              "\n",
              "    .dataframe thead th {\n",
              "        text-align: right;\n",
              "    }\n",
              "</style>\n",
              "<table border=\"1\" class=\"dataframe\">\n",
              "  <thead>\n",
              "    <tr style=\"text-align: right;\">\n",
              "      <th></th>\n",
              "      <th>Date</th>\n",
              "      <th>Language</th>\n",
              "      <th>User</th>\n",
              "      <th>Question</th>\n",
              "      <th>Answer</th>\n",
              "      <th>Right/Wrong</th>\n",
              "      <th>Prediction</th>\n",
              "    </tr>\n",
              "  </thead>\n",
              "  <tbody>\n",
              "    <tr>\n",
              "      <th>0</th>\n",
              "      <td>2021-09-11</td>\n",
              "      <td>English</td>\n",
              "      <td>kell.kvist@gmai.com</td>\n",
              "      <td>My father</td>\n",
              "      <td>My Father</td>\n",
              "      <td>R</td>\n",
              "      <td>NaN</td>\n",
              "    </tr>\n",
              "    <tr>\n",
              "      <th>1</th>\n",
              "      <td>2021-09-11</td>\n",
              "      <td>German</td>\n",
              "      <td>kell.kvist@gmai.com</td>\n",
              "      <td>My father</td>\n",
              "      <td>My Father</td>\n",
              "      <td>R</td>\n",
              "      <td>NaN</td>\n",
              "    </tr>\n",
              "    <tr>\n",
              "      <th>2</th>\n",
              "      <td>2021-09-12</td>\n",
              "      <td>English</td>\n",
              "      <td>kell.kvist@gmai.com</td>\n",
              "      <td>My father has a house in spain</td>\n",
              "      <td>My father has a house in sxx</td>\n",
              "      <td>W</td>\n",
              "      <td>NaN</td>\n",
              "    </tr>\n",
              "    <tr>\n",
              "      <th>3</th>\n",
              "      <td>2021-09-13</td>\n",
              "      <td>English</td>\n",
              "      <td>kell.kvist@gmai.com</td>\n",
              "      <td>My father has a house in spain</td>\n",
              "      <td>asdfdfs</td>\n",
              "      <td>W</td>\n",
              "      <td>NaN</td>\n",
              "    </tr>\n",
              "    <tr>\n",
              "      <th>4</th>\n",
              "      <td>2021-09-14</td>\n",
              "      <td>English</td>\n",
              "      <td>kell.kvist@gmai.com</td>\n",
              "      <td>My father has a house in spain</td>\n",
              "      <td>My father has a house in spain</td>\n",
              "      <td>R</td>\n",
              "      <td>NaN</td>\n",
              "    </tr>\n",
              "  </tbody>\n",
              "</table>\n",
              "</div>"
            ],
            "text/plain": [
              "        Date Language  ... Right/Wrong Prediction\n",
              "0 2021-09-11  English  ...           R        NaN\n",
              "1 2021-09-11   German  ...           R        NaN\n",
              "2 2021-09-12  English  ...           W        NaN\n",
              "3 2021-09-13  English  ...           W        NaN\n",
              "4 2021-09-14  English  ...           R        NaN\n",
              "\n",
              "[5 rows x 7 columns]"
            ]
          },
          "metadata": {},
          "execution_count": 9
        }
      ]
    },
    {
      "cell_type": "code",
      "metadata": {
        "colab": {
          "base_uri": "https://localhost:8080/",
          "height": 297
        },
        "id": "T4j1of63gf5W",
        "outputId": "4d81f85e-5b05-49c8-8c13-11a70224ea9f"
      },
      "source": [
        "##### we keeping the column that we might use on our model \n",
        "data = df[['Language','Question','Answer','Right/Wrong']]\n",
        "data"
      ],
      "execution_count": 11,
      "outputs": [
        {
          "output_type": "execute_result",
          "data": {
            "text/html": [
              "<div>\n",
              "<style scoped>\n",
              "    .dataframe tbody tr th:only-of-type {\n",
              "        vertical-align: middle;\n",
              "    }\n",
              "\n",
              "    .dataframe tbody tr th {\n",
              "        vertical-align: top;\n",
              "    }\n",
              "\n",
              "    .dataframe thead th {\n",
              "        text-align: right;\n",
              "    }\n",
              "</style>\n",
              "<table border=\"1\" class=\"dataframe\">\n",
              "  <thead>\n",
              "    <tr style=\"text-align: right;\">\n",
              "      <th></th>\n",
              "      <th>Language</th>\n",
              "      <th>Question</th>\n",
              "      <th>Answer</th>\n",
              "      <th>Right/Wrong</th>\n",
              "    </tr>\n",
              "  </thead>\n",
              "  <tbody>\n",
              "    <tr>\n",
              "      <th>0</th>\n",
              "      <td>English</td>\n",
              "      <td>My father</td>\n",
              "      <td>My Father</td>\n",
              "      <td>R</td>\n",
              "    </tr>\n",
              "    <tr>\n",
              "      <th>1</th>\n",
              "      <td>German</td>\n",
              "      <td>My father</td>\n",
              "      <td>My Father</td>\n",
              "      <td>R</td>\n",
              "    </tr>\n",
              "    <tr>\n",
              "      <th>2</th>\n",
              "      <td>English</td>\n",
              "      <td>My father has a house in spain</td>\n",
              "      <td>My father has a house in sxx</td>\n",
              "      <td>W</td>\n",
              "    </tr>\n",
              "    <tr>\n",
              "      <th>3</th>\n",
              "      <td>English</td>\n",
              "      <td>My father has a house in spain</td>\n",
              "      <td>asdfdfs</td>\n",
              "      <td>W</td>\n",
              "    </tr>\n",
              "    <tr>\n",
              "      <th>4</th>\n",
              "      <td>English</td>\n",
              "      <td>My father has a house in spain</td>\n",
              "      <td>My father has a house in spain</td>\n",
              "      <td>R</td>\n",
              "    </tr>\n",
              "    <tr>\n",
              "      <th>5</th>\n",
              "      <td>English</td>\n",
              "      <td>My father has a house in spain</td>\n",
              "      <td>dsfdf</td>\n",
              "      <td>W</td>\n",
              "    </tr>\n",
              "    <tr>\n",
              "      <th>6</th>\n",
              "      <td>English</td>\n",
              "      <td>My father has a house in spain</td>\n",
              "      <td>My father has a house in spain</td>\n",
              "      <td>R</td>\n",
              "    </tr>\n",
              "    <tr>\n",
              "      <th>7</th>\n",
              "      <td>English</td>\n",
              "      <td>My father has a house in spain</td>\n",
              "      <td>asdfasdf</td>\n",
              "      <td>W</td>\n",
              "    </tr>\n",
              "  </tbody>\n",
              "</table>\n",
              "</div>"
            ],
            "text/plain": [
              "  Language  ... Right/Wrong\n",
              "0  English  ...           R\n",
              "1   German  ...           R\n",
              "2  English  ...           W\n",
              "3  English  ...           W\n",
              "4  English  ...           R\n",
              "5  English  ...           W\n",
              "6  English  ...           R\n",
              "7  English  ...           W\n",
              "\n",
              "[8 rows x 4 columns]"
            ]
          },
          "metadata": {},
          "execution_count": 11
        }
      ]
    },
    {
      "cell_type": "markdown",
      "metadata": {
        "id": "HS0R538cRMrT"
      },
      "source": [
        "Prep Data "
      ]
    },
    {
      "cell_type": "code",
      "metadata": {
        "id": "aaSZSesoRQ8p"
      },
      "source": [
        "#### we will create training set and testing set \n",
        "from sklearn.model_selection import train_test_split\n"
      ],
      "execution_count": 17,
      "outputs": []
    },
    {
      "cell_type": "code",
      "metadata": {
        "colab": {
          "base_uri": "https://localhost:8080/"
        },
        "id": "TsP1EYzvgF1f",
        "outputId": "71762546-376c-48c3-98b6-bebda7ea9bcc"
      },
      "source": [
        "##### we will be predicting Right/Wrong\n",
        "y = data['Right/Wrong']\n",
        "y"
      ],
      "execution_count": 32,
      "outputs": [
        {
          "output_type": "execute_result",
          "data": {
            "text/plain": [
              "0    R\n",
              "1    R\n",
              "2    W\n",
              "3    W\n",
              "4    R\n",
              "5    W\n",
              "6    R\n",
              "7    W\n",
              "Name: Right/Wrong, dtype: object"
            ]
          },
          "metadata": {},
          "execution_count": 32
        }
      ]
    },
    {
      "cell_type": "code",
      "metadata": {
        "colab": {
          "base_uri": "https://localhost:8080/",
          "height": 297
        },
        "id": "9HhwVFsFqvvC",
        "outputId": "88efae7a-c95c-4ccb-ddb1-6e10dcccb4a7"
      },
      "source": [
        "### this will be our training dataset  \n",
        "x = data.drop('Right/Wrong',axis = 1 )\n",
        "x"
      ],
      "execution_count": 34,
      "outputs": [
        {
          "output_type": "execute_result",
          "data": {
            "text/html": [
              "<div>\n",
              "<style scoped>\n",
              "    .dataframe tbody tr th:only-of-type {\n",
              "        vertical-align: middle;\n",
              "    }\n",
              "\n",
              "    .dataframe tbody tr th {\n",
              "        vertical-align: top;\n",
              "    }\n",
              "\n",
              "    .dataframe thead th {\n",
              "        text-align: right;\n",
              "    }\n",
              "</style>\n",
              "<table border=\"1\" class=\"dataframe\">\n",
              "  <thead>\n",
              "    <tr style=\"text-align: right;\">\n",
              "      <th></th>\n",
              "      <th>Language</th>\n",
              "      <th>Question</th>\n",
              "      <th>Answer</th>\n",
              "    </tr>\n",
              "  </thead>\n",
              "  <tbody>\n",
              "    <tr>\n",
              "      <th>0</th>\n",
              "      <td>English</td>\n",
              "      <td>My father</td>\n",
              "      <td>My Father</td>\n",
              "    </tr>\n",
              "    <tr>\n",
              "      <th>1</th>\n",
              "      <td>German</td>\n",
              "      <td>My father</td>\n",
              "      <td>My Father</td>\n",
              "    </tr>\n",
              "    <tr>\n",
              "      <th>2</th>\n",
              "      <td>English</td>\n",
              "      <td>My father has a house in spain</td>\n",
              "      <td>My father has a house in sxx</td>\n",
              "    </tr>\n",
              "    <tr>\n",
              "      <th>3</th>\n",
              "      <td>English</td>\n",
              "      <td>My father has a house in spain</td>\n",
              "      <td>asdfdfs</td>\n",
              "    </tr>\n",
              "    <tr>\n",
              "      <th>4</th>\n",
              "      <td>English</td>\n",
              "      <td>My father has a house in spain</td>\n",
              "      <td>My father has a house in spain</td>\n",
              "    </tr>\n",
              "    <tr>\n",
              "      <th>5</th>\n",
              "      <td>English</td>\n",
              "      <td>My father has a house in spain</td>\n",
              "      <td>dsfdf</td>\n",
              "    </tr>\n",
              "    <tr>\n",
              "      <th>6</th>\n",
              "      <td>English</td>\n",
              "      <td>My father has a house in spain</td>\n",
              "      <td>My father has a house in spain</td>\n",
              "    </tr>\n",
              "    <tr>\n",
              "      <th>7</th>\n",
              "      <td>English</td>\n",
              "      <td>My father has a house in spain</td>\n",
              "      <td>asdfasdf</td>\n",
              "    </tr>\n",
              "  </tbody>\n",
              "</table>\n",
              "</div>"
            ],
            "text/plain": [
              "  Language                        Question                          Answer\n",
              "0  English                       My father                       My Father\n",
              "1   German                       My father                       My Father\n",
              "2  English  My father has a house in spain    My father has a house in sxx\n",
              "3  English  My father has a house in spain                         asdfdfs\n",
              "4  English  My father has a house in spain  My father has a house in spain\n",
              "5  English  My father has a house in spain                           dsfdf\n",
              "6  English  My father has a house in spain  My father has a house in spain\n",
              "7  English  My father has a house in spain                        asdfasdf"
            ]
          },
          "metadata": {},
          "execution_count": 34
        }
      ]
    },
    {
      "cell_type": "code",
      "metadata": {
        "colab": {
          "base_uri": "https://localhost:8080/",
          "height": 204
        },
        "id": "EYjuSxrzsQiA",
        "outputId": "4a7e0ea0-b502-419f-d6ff-d09f579a0330"
      },
      "source": [
        "#20% of the dataset and the rest should be train data\n",
        "# I will also use cross-validation on a later stage \n",
        "x_train,x_test,y_train,y_test=train_test_split(x,y,test_size=0.2)\n",
        "x_train.head()"
      ],
      "execution_count": 35,
      "outputs": [
        {
          "output_type": "execute_result",
          "data": {
            "text/html": [
              "<div>\n",
              "<style scoped>\n",
              "    .dataframe tbody tr th:only-of-type {\n",
              "        vertical-align: middle;\n",
              "    }\n",
              "\n",
              "    .dataframe tbody tr th {\n",
              "        vertical-align: top;\n",
              "    }\n",
              "\n",
              "    .dataframe thead th {\n",
              "        text-align: right;\n",
              "    }\n",
              "</style>\n",
              "<table border=\"1\" class=\"dataframe\">\n",
              "  <thead>\n",
              "    <tr style=\"text-align: right;\">\n",
              "      <th></th>\n",
              "      <th>Language</th>\n",
              "      <th>Question</th>\n",
              "      <th>Answer</th>\n",
              "    </tr>\n",
              "  </thead>\n",
              "  <tbody>\n",
              "    <tr>\n",
              "      <th>4</th>\n",
              "      <td>English</td>\n",
              "      <td>My father has a house in spain</td>\n",
              "      <td>My father has a house in spain</td>\n",
              "    </tr>\n",
              "    <tr>\n",
              "      <th>2</th>\n",
              "      <td>English</td>\n",
              "      <td>My father has a house in spain</td>\n",
              "      <td>My father has a house in sxx</td>\n",
              "    </tr>\n",
              "    <tr>\n",
              "      <th>6</th>\n",
              "      <td>English</td>\n",
              "      <td>My father has a house in spain</td>\n",
              "      <td>My father has a house in spain</td>\n",
              "    </tr>\n",
              "    <tr>\n",
              "      <th>0</th>\n",
              "      <td>English</td>\n",
              "      <td>My father</td>\n",
              "      <td>My Father</td>\n",
              "    </tr>\n",
              "    <tr>\n",
              "      <th>1</th>\n",
              "      <td>German</td>\n",
              "      <td>My father</td>\n",
              "      <td>My Father</td>\n",
              "    </tr>\n",
              "  </tbody>\n",
              "</table>\n",
              "</div>"
            ],
            "text/plain": [
              "  Language                        Question                          Answer\n",
              "4  English  My father has a house in spain  My father has a house in spain\n",
              "2  English  My father has a house in spain    My father has a house in sxx\n",
              "6  English  My father has a house in spain  My father has a house in spain\n",
              "0  English                       My father                       My Father\n",
              "1   German                       My father                       My Father"
            ]
          },
          "metadata": {},
          "execution_count": 35
        }
      ]
    },
    {
      "cell_type": "code",
      "metadata": {
        "colab": {
          "base_uri": "https://localhost:8080/"
        },
        "id": "Yox72gtWuo5t",
        "outputId": "d53f4f8f-48f4-489e-d202-4302ec48cd94"
      },
      "source": [
        "#x_train.shape"
      ],
      "execution_count": 36,
      "outputs": [
        {
          "output_type": "execute_result",
          "data": {
            "text/plain": [
              "(6, 3)"
            ]
          },
          "metadata": {},
          "execution_count": 36
        }
      ]
    },
    {
      "cell_type": "code",
      "metadata": {
        "colab": {
          "base_uri": "https://localhost:8080/",
          "height": 111
        },
        "id": "hAyArXa3uyk2",
        "outputId": "083cda67-d47a-4899-b7f5-14176149bc11"
      },
      "source": [
        "#x_test.head()"
      ],
      "execution_count": 37,
      "outputs": [
        {
          "output_type": "execute_result",
          "data": {
            "text/html": [
              "<div>\n",
              "<style scoped>\n",
              "    .dataframe tbody tr th:only-of-type {\n",
              "        vertical-align: middle;\n",
              "    }\n",
              "\n",
              "    .dataframe tbody tr th {\n",
              "        vertical-align: top;\n",
              "    }\n",
              "\n",
              "    .dataframe thead th {\n",
              "        text-align: right;\n",
              "    }\n",
              "</style>\n",
              "<table border=\"1\" class=\"dataframe\">\n",
              "  <thead>\n",
              "    <tr style=\"text-align: right;\">\n",
              "      <th></th>\n",
              "      <th>Language</th>\n",
              "      <th>Question</th>\n",
              "      <th>Answer</th>\n",
              "    </tr>\n",
              "  </thead>\n",
              "  <tbody>\n",
              "    <tr>\n",
              "      <th>7</th>\n",
              "      <td>English</td>\n",
              "      <td>My father has a house in spain</td>\n",
              "      <td>asdfasdf</td>\n",
              "    </tr>\n",
              "    <tr>\n",
              "      <th>3</th>\n",
              "      <td>English</td>\n",
              "      <td>My father has a house in spain</td>\n",
              "      <td>asdfdfs</td>\n",
              "    </tr>\n",
              "  </tbody>\n",
              "</table>\n",
              "</div>"
            ],
            "text/plain": [
              "  Language                        Question    Answer\n",
              "7  English  My father has a house in spain  asdfasdf\n",
              "3  English  My father has a house in spain   asdfdfs"
            ]
          },
          "metadata": {},
          "execution_count": 37
        }
      ]
    },
    {
      "cell_type": "code",
      "metadata": {
        "id": "LIEVbBa6vAfh"
      },
      "source": [
        ""
      ],
      "execution_count": null,
      "outputs": []
    },
    {
      "cell_type": "code",
      "metadata": {
        "id": "kzIZWV0mdl1h"
      },
      "source": [
        "from sklearn.linear_model import LogisticRegression "
      ],
      "execution_count": 18,
      "outputs": []
    }
  ]
}